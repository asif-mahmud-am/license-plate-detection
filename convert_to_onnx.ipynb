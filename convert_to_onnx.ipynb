{
 "cells": [
  {
   "cell_type": "code",
   "execution_count": 1,
   "metadata": {},
   "outputs": [
    {
     "name": "stderr",
     "output_type": "stream",
     "text": [
      "Ultralytics YOLOv8.0.143  Python-3.9.0 torch-2.0.1+cpu CPU (Intel Core(TM) i7-8650U 1.90GHz)\n",
      "YOLOv8n summary (fused): 168 layers, 3005843 parameters, 0 gradients, 8.1 GFLOPs\n",
      "\n",
      "\u001b[34m\u001b[1mPyTorch:\u001b[0m starting from 'models\\license_plate_detector.pt' with input shape (1, 3, 640, 640) BCHW and output shape(s) (1, 5, 8400) (6.0 MB)\n",
      "\u001b[31m\u001b[1mrequirements:\u001b[0m Ultralytics requirement ['onnx>=1.12.0'] not found, attempting AutoUpdate...\n",
      "Collecting onnx>=1.12.0\n",
      "  Downloading onnx-1.17.0-cp39-cp39-win_amd64.whl.metadata (16 kB)\n",
      "Requirement already satisfied: numpy>=1.20 in c:\\users\\lenovo\\miniconda3\\envs\\indoor-object-detection\\lib\\site-packages (from onnx>=1.12.0) (1.25.1)\n",
      "Requirement already satisfied: protobuf>=3.20.2 in c:\\users\\lenovo\\miniconda3\\envs\\indoor-object-detection\\lib\\site-packages (from onnx>=1.12.0) (4.23.4)\n",
      "Downloading onnx-1.17.0-cp39-cp39-win_amd64.whl (14.5 MB)\n",
      "   ---------------------------------------- 14.5/14.5 MB 4.1 MB/s eta 0:00:00\n",
      "Installing collected packages: onnx\n",
      "Successfully installed onnx-1.17.0\n",
      "\n",
      "\u001b[31m\u001b[1mrequirements:\u001b[0m AutoUpdate success  21.6s, installed 1 package: ['onnx>=1.12.0']\n",
      "\u001b[31m\u001b[1mrequirements:\u001b[0m  \u001b[1mRestart runtime or rerun command for updates to take effect\u001b[0m\n",
      "\n",
      "\n",
      "\u001b[34m\u001b[1mONNX:\u001b[0m starting export with onnx 1.17.0 opset 17...\n",
      "\u001b[34m\u001b[1mONNX:\u001b[0m export success  24.6s, saved as 'models\\license_plate_detector.onnx' (11.5 MB)\n",
      "\n",
      "Export complete (30.6s)\n",
      "Results saved to \u001b[1mC:\\Object detection\\license-plate-detection\\models\u001b[0m\n",
      "Predict:         yolo predict task=detect model=models\\license_plate_detector.onnx imgsz=640 \n",
      "Validate:        yolo val task=detect model=models\\license_plate_detector.onnx imgsz=640 data=None \n",
      "Visualize:       https://netron.app\n"
     ]
    },
    {
     "name": "stdout",
     "output_type": "stream",
     "text": [
      "============== Diagnostic Run torch.onnx.export version 2.0.1+cpu ==============\n",
      "verbose: False, log level: Level.ERROR\n",
      "======================= 0 NONE 0 NOTE 0 WARNING 0 ERROR ========================\n",
      "\n"
     ]
    },
    {
     "data": {
      "text/plain": [
       "'models\\\\license_plate_detector.onnx'"
      ]
     },
     "execution_count": 1,
     "metadata": {},
     "output_type": "execute_result"
    }
   ],
   "source": [
    "from ultralytics import YOLO\n",
    "\n",
    "# Load your trained YOLOv8 model\n",
    "model = YOLO('models/license_plate_detector.pt') \n",
    "\n",
    "# Export the model to ONNX format\n",
    "model.export(format='onnx', dynamic=True) \n"
   ]
  }
 ],
 "metadata": {
  "kernelspec": {
   "display_name": "indoor-object-detection",
   "language": "python",
   "name": "python3"
  },
  "language_info": {
   "codemirror_mode": {
    "name": "ipython",
    "version": 3
   },
   "file_extension": ".py",
   "mimetype": "text/x-python",
   "name": "python",
   "nbconvert_exporter": "python",
   "pygments_lexer": "ipython3",
   "version": "3.9.0"
  }
 },
 "nbformat": 4,
 "nbformat_minor": 2
}
